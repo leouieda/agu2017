{
 "cells": [
  {
   "cell_type": "markdown",
   "metadata": {},
   "source": [
    "# First Steps\n",
    "\n",
    "This is an example of what you can already with GMT/Python. \n",
    "We'll mostly reproduce some examples from the [GMT Tutorial](http://gmt.soest.hawaii.edu/doc/latest/GMT_Tutorial.html#session-one).\n",
    "\n",
    "## Loading the library\n",
    "\n",
    "The GMT modules are available as functions and classes in the `gmt` Python package. \n",
    "So we'll start by importing it:"
   ]
  },
  {
   "cell_type": "code",
   "execution_count": null,
   "metadata": {},
   "outputs": [],
   "source": [
    "import gmt"
   ]
  },
  {
   "cell_type": "markdown",
   "metadata": {},
   "source": [
    "## A first map\n",
    "\n",
    "All figure generation in GMT/Python is handled by the `gmt.Figure` class. \n",
    "It has methods to add layers to your figure, like a basemap, coastlines, and data."
   ]
  },
  {
   "cell_type": "markdown",
   "metadata": {},
   "source": [
    "We start a new figure by creating an instance of `gmt.Figure`:"
   ]
  },
  {
   "cell_type": "code",
   "execution_count": null,
   "metadata": {},
   "outputs": [],
   "source": [
    "fig = gmt.Figure()"
   ]
  },
  {
   "cell_type": "markdown",
   "metadata": {},
   "source": [
    "We add elements to the figure using its methods. For example, lets add the coastlines of Central America to a 6 inch wide map using the Mercator projection (`M`). Our figure will also have a nice frame with automatic ticks."
   ]
  },
  {
   "cell_type": "code",
   "execution_count": null,
   "metadata": {},
   "outputs": [],
   "source": [
    "fig.coast(region=[-90, -70, 0, 20], projection='M6i', land='chocolate', \n",
    "          frame=True)"
   ]
  },
  {
   "cell_type": "markdown",
   "metadata": {},
   "source": [
    "You can see a preview of the figure directly in the [Jupyter notebook](http://jupyter.org) using `fig.show()`."
   ]
  },
  {
   "cell_type": "code",
   "execution_count": null,
   "metadata": {},
   "outputs": [],
   "source": [
    "fig.show()"
   ]
  },
  {
   "cell_type": "markdown",
   "metadata": {},
   "source": [
    "To open a PDF preview of the figure using your default PDF viewer use:\n",
    "\n",
    "```python\n",
    "fig.show(external=True)\n",
    "```\n",
    "\n",
    "This is useful when using the Python shell or IPython terminal app. \n",
    "However, **this command will not interrupt your Python process**. \n",
    "So using it in a Python script will not work because the script will finish and delete the generated previews.\n",
    "Use `fig.savefig` to save the figure to a file instead (see below)."
   ]
  },
  {
   "cell_type": "markdown",
   "metadata": {},
   "source": [
    "## A note for experienced GMT users\n",
    "\n",
    "You'll probably have noticed several things that are different from classic command-line GMT.\n",
    "Many of these changes reflect the new GMT [modern execution mode](http://gmt.soest.hawaii.edu/projects/gmt/wiki/Modernization) that will be part of the future 6.0 release.\n",
    "A few are GMT/Python exclusive (like the long argument names).\n",
    "\n",
    "1. The name of method is `coast` instead of `pscoast`. As a general rule, all `ps*` modules had their `ps` removed. The exceptions are: `psxy == plot`, `psxyz == plot3d`, and `psscale == colorbar`.\n",
    "2. The arguments don't use the GMT 1-letter syntax (R, J, B, etc). Those are still available as aliases and the methods will accept them (see below). \n",
    "3. Arguments like `region` can take lists instead of strings like `1/2/3/4`. You can still use the string form but the list form is easier in Python.\n",
    "4. If a GMT argument has no options (like `-B` instead of `-Baf`), use a `True` value instead. An empty string would also be acceptable.\n",
    "5. There is no output redirecting to a PostScript file. The figure is generated in the background and will only be shown or saved when you ask for it."
   ]
  },
  {
   "cell_type": "markdown",
   "metadata": {},
   "source": [
    "We could have generated the figure above using the classic GMT argument names (but not the module names):"
   ]
  },
  {
   "cell_type": "code",
   "execution_count": null,
   "metadata": {},
   "outputs": [],
   "source": [
    "fig_alias = gmt.Figure()\n",
    "fig_alias.coast(R='-90/-70/0/20', J='M6i', G='chocolate', B=True)\n",
    "fig_alias.show()"
   ]
  },
  {
   "cell_type": "markdown",
   "metadata": {},
   "source": [
    "## Saving the figure\n",
    "\n",
    "Unlike the GMT command-line interface, **no figure file was generated until you ask for one**.\n",
    "\n",
    "Use method `fig.savefig` (based on the [matplotlib](https://matplotlib.org/) function) to save your figure to a file:"
   ]
  },
  {
   "cell_type": "code",
   "execution_count": null,
   "metadata": {},
   "outputs": [],
   "source": [
    "fig.savefig('first-steps-central-america.png')"
   ]
  },
  {
   "cell_type": "markdown",
   "metadata": {},
   "source": [
    "If you're running a Python script, you can tell `fig.savefig` to open the figure in an external viewer:\n",
    "\n",
    "```python\n",
    "fig.savefig('first-steps-central-america.png', show=True)\n",
    "```\n",
    "\n",
    "The classic GMT command `psconvert` is also available (and is used by `savefig` in the background):"
   ]
  },
  {
   "cell_type": "code",
   "execution_count": null,
   "metadata": {},
   "outputs": [],
   "source": [
    "# Format 'f' means a PDF\n",
    "fig.psconvert(prefix='first-steps-central-america', fmt='f')"
   ]
  },
  {
   "cell_type": "markdown",
   "metadata": {},
   "source": [
    "## Plot point data\n",
    "\n",
    "We can use `gmt.Figure.plot` to plot data on our map.\n",
    "\n",
    "First, lets create some fake data to plot using numpy:"
   ]
  },
  {
   "cell_type": "code",
   "execution_count": null,
   "metadata": {},
   "outputs": [],
   "source": [
    "import numpy as np"
   ]
  },
  {
   "cell_type": "code",
   "execution_count": null,
   "metadata": {},
   "outputs": [],
   "source": [
    "# See the random number generator so we always \n",
    "# get the same numbers\n",
    "np.random.seed(42)\n",
    "\n",
    "ndata = 30\n",
    "region = [150, 240, -30, 60]\n",
    "lon = np.random.uniform(region[0], region[1], ndata)\n",
    "lat = np.random.uniform(region[2], region[3], ndata)\n",
    "magnitude = np.random.uniform(1, 9, ndata)\n",
    "depth = np.random.uniform(0, 1, ndata)"
   ]
  },
  {
   "cell_type": "markdown",
   "metadata": {},
   "source": [
    "There are 3 ways to pass data into `Figure.plot`:\n",
    "\n",
    "1. x and y coordinates as 1d numpy arrays using the `x` and `y` arguments.\n",
    "2. A whole data table as a 2d numpy array using the `data` argument.\n",
    "3. A file name using the `data` argument.\n",
    "\n",
    "Let's explore all of these options."
   ]
  },
  {
   "cell_type": "markdown",
   "metadata": {},
   "source": [
    "### Using x and y\n",
    "\n",
    "Now we can plot the data using `Figure.plot` and passing the x and y coordinate arrays:"
   ]
  },
  {
   "cell_type": "code",
   "execution_count": null,
   "metadata": {},
   "outputs": [],
   "source": [
    "fig = gmt.Figure()\n",
    "fig.coast(region='g', projection='G200/30/6i', frame='ag', \n",
    "          resolution='i', area_thresh=5000, land='white', \n",
    "          water='DarkTurquoise')\n",
    "# Plot using circles (c) of 0.3 cm\n",
    "fig.plot(x=lon, y=lat, style='c0.3c', color='black')\n",
    "fig.show()"
   ]
  },
  {
   "cell_type": "markdown",
   "metadata": {},
   "source": [
    "We can make the size of the markers follow a data value by passing in the argument `sizes`:"
   ]
  },
  {
   "cell_type": "code",
   "execution_count": null,
   "metadata": {},
   "outputs": [],
   "source": [
    "fig = gmt.Figure()\n",
    "fig.coast(region='g', projection='G200/30/6i', frame='ag', \n",
    "          resolution='i', area_thresh=5000, land='white', \n",
    "          water='DarkTurquoise')\n",
    "fig.plot(x=lon, y=lat, sizes=0.1*magnitude, style='cc', color='black')\n",
    "fig.show()"
   ]
  },
  {
   "cell_type": "markdown",
   "metadata": {},
   "source": [
    "We can also map the colors of the markers to data by passing `color` as an array and providing a colormap name (`cmap`):"
   ]
  },
  {
   "cell_type": "code",
   "execution_count": null,
   "metadata": {},
   "outputs": [],
   "source": [
    "fig = gmt.Figure()\n",
    "fig.coast(region='g', projection='G200/30/6i', frame='ag', \n",
    "          resolution='i', area_thresh=5000, land='white', \n",
    "          water='DarkTurquoise')\n",
    "fig.plot(x=lon, y=lat, style='cc', sizes=0.1*magnitude, \n",
    "         color=depth, cmap='viridis')\n",
    "fig.show()"
   ]
  },
  {
   "cell_type": "markdown",
   "metadata": {},
   "source": [
    "### Using a matrix\n",
    "\n",
    "Sometimes, you'll have data that you loaded from a file in the form of a single numpy 2d array (like a table). You can plot these data by passing in `data`."
   ]
  },
  {
   "cell_type": "code",
   "execution_count": null,
   "metadata": {},
   "outputs": [],
   "source": [
    "data = np.transpose([lon, lat, magnitude, depth])"
   ]
  },
  {
   "cell_type": "markdown",
   "metadata": {},
   "source": [
    "We can use the `columns` argument to specify the columns that correspond to x, y, color, and size, respectively. We'll use it to specify that we want to set the colors using the depths:"
   ]
  },
  {
   "cell_type": "code",
   "execution_count": null,
   "metadata": {},
   "outputs": [],
   "source": [
    "fig = gmt.Figure()\n",
    "fig.coast(region=region, projection='M6i', frame='ag', \n",
    "          resolution='i', area_thresh=5000, land='grey')\n",
    "fig.plot(data=data, style='c0.8c', cmap='viridis', columns='0,1,3')\n",
    "fig.show()"
   ]
  },
  {
   "cell_type": "markdown",
   "metadata": {},
   "source": [
    "### Using a file name\n",
    "\n",
    "If you have data in a file and you don't need to do any calculations on it, you can pass the file name to `plot` directly. The syntax for plotting will be the same as the example for a data matrix.\n",
    "\n",
    "First, we must save our sample data to a file:"
   ]
  },
  {
   "cell_type": "code",
   "execution_count": null,
   "metadata": {},
   "outputs": [],
   "source": [
    "np.savetxt('first-steps-data.txt', data)"
   ]
  },
  {
   "cell_type": "code",
   "execution_count": null,
   "metadata": {},
   "outputs": [],
   "source": [
    "fig = gmt.Figure()\n",
    "fig.coast(region='g', projection='N-165/6i', frame='ag', \n",
    "          resolution='i', area_thresh=5000, land='chocolate')\n",
    "fig.plot(data='first-steps-data.txt', style='c0.4c', \n",
    "         cmap='viridis', columns='0,1,3')\n",
    "fig.show()"
   ]
  },
  {
   "cell_type": "markdown",
   "metadata": {},
   "source": [
    "### Using sample data from GMT\n",
    "\n",
    "GMT ships some sample data that can be accessed by passing `@data_file` as the `data` argument. For example, we can plot the earthquake epicenters from the `tut_quakes.ngdc` sample dataset:"
   ]
  },
  {
   "cell_type": "code",
   "execution_count": null,
   "metadata": {},
   "outputs": [],
   "source": [
    "fig_quakes = gmt.Figure()\n",
    "fig_quakes.coast(\n",
    "    region=[130, 150, 35, 50], projection='M6i', \n",
    "    frame='afg', shorelines=True, land='gray', \n",
    "    water='lightblue')\n",
    "fig_quakes.plot(data='@tut_quakes.ngdc', style='c0.3c', \n",
    "                color='blue', pen='faint', columns=[4, 3])\n",
    "fig_quakes.show()"
   ]
  }
 ],
 "metadata": {
  "kernelspec": {
   "display_name": "Python 3",
   "language": "python",
   "name": "python3"
  },
  "language_info": {
   "codemirror_mode": {
    "name": "ipython",
    "version": 3
   },
   "file_extension": ".py",
   "mimetype": "text/x-python",
   "name": "python",
   "nbconvert_exporter": "python",
   "pygments_lexer": "ipython3",
   "version": "3.6.3"
  }
 },
 "nbformat": 4,
 "nbformat_minor": 2
}
